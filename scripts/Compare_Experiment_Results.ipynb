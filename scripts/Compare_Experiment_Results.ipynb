{
 "cells": [
  {
   "cell_type": "code",
   "execution_count": 4,
   "metadata": {},
   "outputs": [],
   "source": [
    "import pandas as pd\n",
    "\n",
    "# baseline orignal desefusion trained with lightning\n",
    "bl_1 = '/media/scratch1/jonfrey/models/runs/2020-07-05T06:38:37_train_with_w_rate_test/all_training_logs_in_one_file.pkl'\n",
    "# baseline orginal densefusion pose estimation model\n",
    "bl_2 = '/media/scratch1/jonfrey/models/runs/2020-07-05T06:43:01_baseline_pose_estimation_module_test/all_training_logs_in_one_file.pkl'\n",
    "\n",
    "df_bl_1 = pd.read_pickle(bl_1) \n",
    "df_bl_2 = pd.read_pickle(bl_2) \n",
    "\n",
    "#df_exp_1 = pd.read_pickle(exp_2)"
   ]
  },
  {
   "cell_type": "code",
   "execution_count": 3,
   "metadata": {},
   "outputs": [
    {
     "output_type": "error",
     "ename": "NameError",
     "evalue": "name 'df_bl_2' is not defined",
     "traceback": [
      "\u001b[0;31m---------------------------------------------------------------------------\u001b[0m",
      "\u001b[0;31mNameError\u001b[0m                                 Traceback (most recent call last)",
      "\u001b[0;32m<ipython-input-3-204c58be3d03>\u001b[0m in \u001b[0;36m<module>\u001b[0;34m\u001b[0m\n\u001b[1;32m     24\u001b[0m         \u001b[0mprint\u001b[0m\u001b[0;34m(\u001b[0m\u001b[0mstr\u001b[0m\u001b[0;34m(\u001b[0m\u001b[0mm\u001b[0m\u001b[0;34m)\u001b[0m \u001b[0;34m,\u001b[0m\u001b[0;34m':'\u001b[0m\u001b[0;34m,\u001b[0m \u001b[0;34m' '\u001b[0m\u001b[0;34m*\u001b[0m\u001b[0mint\u001b[0m\u001b[0;34m(\u001b[0m\u001b[0ms1\u001b[0m\u001b[0;34m-\u001b[0m\u001b[0mlen\u001b[0m\u001b[0;34m(\u001b[0m\u001b[0mm\u001b[0m\u001b[0;34m)\u001b[0m\u001b[0;34m)\u001b[0m  \u001b[0;34m,\u001b[0m \u001b[0mv1\u001b[0m\u001b[0;34m,\u001b[0m \u001b[0mv2\u001b[0m \u001b[0;34m)\u001b[0m\u001b[0;34m\u001b[0m\u001b[0;34m\u001b[0m\u001b[0m\n\u001b[1;32m     25\u001b[0m \u001b[0;34m\u001b[0m\u001b[0m\n\u001b[0;32m---> 26\u001b[0;31m \u001b[0mcompare\u001b[0m\u001b[0;34m(\u001b[0m\u001b[0mdf_bl_1\u001b[0m\u001b[0;34m,\u001b[0m \u001b[0mdf_bl_2\u001b[0m\u001b[0;34m,\u001b[0m \u001b[0mkey\u001b[0m\u001b[0;34m=\u001b[0m\u001b[0;34m'dis'\u001b[0m\u001b[0;34m)\u001b[0m\u001b[0;34m\u001b[0m\u001b[0;34m\u001b[0m\u001b[0m\n\u001b[0m",
      "\u001b[0;31mNameError\u001b[0m: name 'df_bl_2' is not defined"
     ]
    }
   ],
   "source": [
    "\n",
    "def compare(df_bl_1, df_bl_2,n1='baseline', n2='exp', key = 'dis'):\n",
    "\n",
    "    metrics, idx_1, idx_2 = [], [] , []\n",
    "\n",
    "    for j, metric in enumerate( df_bl_1['metric'] ):\n",
    "        #only get dis and check if the key is available in dl_bl_2\n",
    "        #print( metric in df_bl_2['metric'] )\n",
    "        if metric.find(key) != -1 and metric in list(df_bl_2['metric']) != -1: \n",
    "            metrics.append(metric)\n",
    "            idx_1.append(j)\n",
    "            idx_2.append( list(df_bl_2['metric']).index(metric) )\n",
    "\n",
    "    s1 = 15\n",
    "    BOLD = '\\033[1m'\n",
    "    END = '\\033[0m'\n",
    "    for m, i1,i2 in zip (metrics, idx_1, idx_2):\n",
    "        v1 ='%.5f'%float(list(df_bl_1['value'])[i1])\n",
    "        v2 ='%.5f'%float(list(df_bl_2['value'])[i2])\n",
    "\n",
    "        if v1 < v2:\n",
    "            v1 = BOLD + v1 + END\n",
    "        else: \n",
    "            v2 = BOLD + v2 + END\n",
    "        print(str(m) ,':', ' '*int(s1-len(m))  , v1, v2 )\n",
    "\n",
    "compare(df_bl_1, df_bl_2, key='dis')"
   ]
  },
  {
   "cell_type": "code",
   "execution_count": null,
   "metadata": {},
   "outputs": [],
   "source": []
  }
 ],
 "metadata": {
  "kernelspec": {
   "display_name": "track",
   "language": "python",
   "name": "track"
  },
  "language_info": {
   "codemirror_mode": {
    "name": "ipython",
    "version": 3
   },
   "file_extension": ".py",
   "mimetype": "text/x-python",
   "name": "python",
   "nbconvert_exporter": "python",
   "pygments_lexer": "ipython3",
   "version": "3.7.7"
  }
 },
 "nbformat": 4,
 "nbformat_minor": 4
}